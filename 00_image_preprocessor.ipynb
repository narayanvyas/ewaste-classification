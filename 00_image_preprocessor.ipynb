{
  "nbformat": 4,
  "nbformat_minor": 0,
  "metadata": {
    "colab": {
      "name": "00_image_preprocessor.ipynb",
      "provenance": [],
      "mount_file_id": "1S70GPCnJBidWbTcUwkxH0hQ7xrr8uSMW",
      "authorship_tag": "ABX9TyMwgPghlM8/kEeTu+5jnZOS",
      "include_colab_link": true
    },
    "kernelspec": {
      "name": "python3",
      "display_name": "Python 3"
    },
    "language_info": {
      "name": "python"
    }
  },
  "cells": [
    {
      "cell_type": "markdown",
      "metadata": {
        "id": "view-in-github",
        "colab_type": "text"
      },
      "source": [
        "<a href=\"https://colab.research.google.com/github/narayanvyas/ewaste-classification/blob/master/00_image_preprocessor.ipynb\" target=\"_parent\"><img src=\"https://colab.research.google.com/assets/colab-badge.svg\" alt=\"Open In Colab\"/></a>"
      ]
    },
    {
      "cell_type": "code",
      "source": [
        "pip install split-folders"
      ],
      "metadata": {
        "colab": {
          "base_uri": "https://localhost:8080/"
        },
        "id": "oEAa0CkGqSdz",
        "outputId": "618cb4c4-98bd-47c6-d10f-d8b3866fa539"
      },
      "execution_count": null,
      "outputs": [
        {
          "output_type": "stream",
          "name": "stdout",
          "text": [
            "Collecting split-folders\n",
            "  Downloading split_folders-0.4.3-py3-none-any.whl (7.4 kB)\n",
            "Installing collected packages: split-folders\n",
            "Successfully installed split-folders-0.4.3\n"
          ]
        }
      ]
    },
    {
      "cell_type": "code",
      "execution_count": null,
      "metadata": {
        "colab": {
          "base_uri": "https://localhost:8080/"
        },
        "id": "uyq3ZGLVp-m3",
        "outputId": "54e88680-a366-4508-8933-edddc580259e"
      },
      "outputs": [
        {
          "output_type": "stream",
          "name": "stdout",
          "text": [
            "--2021-12-12 03:32:30--  https://raw.githubusercontent.com/narayanvyas/ml-helper/master/helper_functions.py\n",
            "Resolving raw.githubusercontent.com (raw.githubusercontent.com)... 185.199.108.133, 185.199.109.133, 185.199.110.133, ...\n",
            "Connecting to raw.githubusercontent.com (raw.githubusercontent.com)|185.199.108.133|:443... connected.\n",
            "HTTP request sent, awaiting response... 200 OK\n",
            "Length: 11081 (11K) [text/plain]\n",
            "Saving to: ‘helper_functions.py’\n",
            "\n",
            "\rhelper_functions.py   0%[                    ]       0  --.-KB/s               \rhelper_functions.py 100%[===================>]  10.82K  --.-KB/s    in 0s      \n",
            "\n",
            "2021-12-12 03:32:30 (79.4 MB/s) - ‘helper_functions.py’ saved [11081/11081]\n",
            "\n"
          ]
        }
      ],
      "source": [
        "# Load the functions from helper.py\n",
        "\n",
        "!wget https://raw.githubusercontent.com/narayanvyas/ml-helper/master/helper_functions.py\n",
        "\n",
        "from helper_functions import pred_and_plot, create_tensorboard_callback,make_confusion_matrix, plot_loss_curves, getClassNames, walk_through_dir, compare_historys, unzip_data, unzip_data, calculate_results, removeData"
      ]
    },
    {
      "cell_type": "code",
      "source": [
        "rootPath = '/content/drive/MyDrive/'\n",
        "folderName = 'spares_preprocessed'\n",
        "\n",
        "\n",
        "inputFolder = folderName\n",
        "# outputFolder = folderName\n",
        "outputFolder = folderName + '_splitted'\n",
        "\n",
        "train_dir = outputFolder + '/train/'\n",
        "test_dir = outputFolder + '/test/'\n",
        "\n",
        "trainingRatio = 0.9\n",
        "testRatio = 0.1\n",
        "validationRatio = 0.0\n",
        "\n",
        "batchSize = 32\n",
        "epochs = 5\n",
        "imgSize = (224, 224)"
      ],
      "metadata": {
        "id": "q8Xtb0jLqDlM"
      },
      "execution_count": null,
      "outputs": []
    },
    {
      "cell_type": "code",
      "source": [
        "unzip_data(rootPath + folderName + '.zip')"
      ],
      "metadata": {
        "id": "4GUn8yDfqd0m"
      },
      "execution_count": null,
      "outputs": []
    },
    {
      "cell_type": "code",
      "source": [
        "walk_through_dir(folderName)"
      ],
      "metadata": {
        "colab": {
          "base_uri": "https://localhost:8080/"
        },
        "id": "3uUYzK9bqkJA",
        "outputId": "2817a88d-7352-4fb3-863b-f5551bb1cde8"
      },
      "execution_count": null,
      "outputs": [
        {
          "output_type": "stream",
          "name": "stdout",
          "text": [
            "There are 11 directories and 1 images in 'spares_preprocessed'.\n",
            "There are 0 directories and 283 images in 'spares_preprocessed/Optical Disk Drive'.\n",
            "There are 0 directories and 269 images in 'spares_preprocessed/Mouse'.\n",
            "There are 0 directories and 288 images in 'spares_preprocessed/PSU'.\n",
            "There are 0 directories and 269 images in 'spares_preprocessed/Monitor'.\n",
            "There are 0 directories and 272 images in 'spares_preprocessed/Hard Disk'.\n",
            "There are 0 directories and 296 images in 'spares_preprocessed/Fan'.\n",
            "There are 0 directories and 285 images in 'spares_preprocessed/Speakers'.\n",
            "There are 0 directories and 233 images in 'spares_preprocessed/USB'.\n",
            "There are 0 directories and 210 images in 'spares_preprocessed/RAM'.\n",
            "There are 0 directories and 291 images in 'spares_preprocessed/Motherboard'.\n",
            "There are 0 directories and 228 images in 'spares_preprocessed/Keyboard'.\n"
          ]
        }
      ]
    },
    {
      "cell_type": "code",
      "source": [
        "import tensorflow as tf\n",
        "from pathlib import Path\n",
        "import imghdr\n",
        "\n",
        "data_dir = folderName\n",
        "image_extensions = [\".png\", \".jpg\",]  # add there all your images file extensions\n",
        "\n",
        "img_type_accepted_by_tf = [\"bmp\", \"gif\", \"jpeg\", \"png\"]\n",
        "for filepath in Path(data_dir).rglob(\"*\"):\n",
        "    if filepath.suffix.lower() in image_extensions:\n",
        "        img_type = imghdr.what(filepath)\n",
        "        if img_type is None:\n",
        "            print(f\"{filepath} is not an image\")\n",
        "        elif img_type not in img_type_accepted_by_tf:\n",
        "            print(f\"{filepath} is a {img_type}, not accepted by TensorFlow\")\n",
        "        tf.io.gfile.remove(filepath)"
      ],
      "metadata": {
        "colab": {
          "base_uri": "https://localhost:8080/"
        },
        "id": "pu88YMPDtCY_",
        "outputId": "9464dbd5-63af-481f-f962-f66531a384ba"
      },
      "execution_count": null,
      "outputs": [
        {
          "output_type": "stream",
          "name": "stdout",
          "text": [
            "spares_preprocessed/Optical Disk Drive/optical_disk_drives (8).jpg is not an image\n",
            "spares_preprocessed/Optical Disk Drive/optical_disk_drives (2).jpg is a webp, not accepted by TensorFlow\n",
            "spares_preprocessed/Optical Disk Drive/optical_disk_drives (5).jpg is not an image\n",
            "spares_preprocessed/Mouse/mouse (57).jpg is not an image\n",
            "spares_preprocessed/Mouse/mouse (63).jpg is not an image\n",
            "spares_preprocessed/Mouse/mouse (39).jpg is not an image\n",
            "spares_preprocessed/Mouse/mouse (59).jpg is not an image\n",
            "spares_preprocessed/Mouse/mouse (48).jpg is a webp, not accepted by TensorFlow\n",
            "spares_preprocessed/Mouse/mouse (41).jpg is a webp, not accepted by TensorFlow\n",
            "spares_preprocessed/Monitor/computer_monitor (30).jpg is a webp, not accepted by TensorFlow\n",
            "spares_preprocessed/Monitor/computer_monitor (17).jpg is not an image\n",
            "spares_preprocessed/Hard Disk/hard_disk (21).jpg is not an image\n",
            "spares_preprocessed/USB/usb_drives (47).jpg is a webp, not accepted by TensorFlow\n",
            "spares_preprocessed/USB/usb_drives (54).jpg is not an image\n",
            "spares_preprocessed/USB/usb_drives (58).jpg is a webp, not accepted by TensorFlow\n",
            "spares_preprocessed/USB/usb_drives (37).jpg is not an image\n",
            "spares_preprocessed/USB/usb_drives (49).jpg is not an image\n",
            "spares_preprocessed/USB/usb_drives (57).jpg is not an image\n",
            "spares_preprocessed/USB/usb_drives (61).jpg is a webp, not accepted by TensorFlow\n",
            "spares_preprocessed/USB/usb_drives (45).jpg is not an image\n",
            "spares_preprocessed/USB/usb_drives (29).jpg is a webp, not accepted by TensorFlow\n",
            "spares_preprocessed/RAM/ram (25).jpg is a webp, not accepted by TensorFlow\n",
            "spares_preprocessed/RAM/ram (23).jpg is not an image\n",
            "spares_preprocessed/RAM/ram (13).jpg is a webp, not accepted by TensorFlow\n",
            "spares_preprocessed/RAM/ram (3).jpg is not an image\n",
            "spares_preprocessed/RAM/ram (1).jpg is not an image\n",
            "spares_preprocessed/Motherboard/motherboard (11).jpg is not an image\n",
            "spares_preprocessed/Keyboard/keyboard (10).jpg is a webp, not accepted by TensorFlow\n",
            "spares_preprocessed/Keyboard/keyboard (32).jpg is not an image\n",
            "spares_preprocessed/Keyboard/keyboard (12).jpg is not an image\n",
            "spares_preprocessed/Keyboard/keyboard (4).jpg is not an image\n",
            "spares_preprocessed/Keyboard/keyboard (7).jpg is a webp, not accepted by TensorFlow\n",
            "spares_preprocessed/Keyboard/keyboard (48).jpg is not an image\n"
          ]
        }
      ]
    },
    {
      "cell_type": "code",
      "source": [
        "import shutil\n",
        "shutil.make_archive('converted', 'zip', folderName)"
      ],
      "metadata": {
        "colab": {
          "base_uri": "https://localhost:8080/",
          "height": 35
        },
        "id": "cf0SxoQ3tnyv",
        "outputId": "6ece5b39-4fcc-435f-a281-dc8714eee874"
      },
      "execution_count": null,
      "outputs": [
        {
          "output_type": "execute_result",
          "data": {
            "application/vnd.google.colaboratory.intrinsic+json": {
              "type": "string"
            },
            "text/plain": [
              "'/content/converted.zip'"
            ]
          },
          "metadata": {},
          "execution_count": 22
        }
      ]
    }
  ]
}